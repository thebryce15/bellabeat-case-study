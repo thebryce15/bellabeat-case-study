{
 "cells": [
  {
   "cell_type": "markdown",
   "id": "85bdcbb0",
   "metadata": {},
   "source": [
    "# Bellabeat Case Study – Analysis Notebook\n",
    "This notebook walks through the exploratory data analysis and segmentation steps used in the Bellabeat case study. Data was cleaned using SQL scripts and saved in the `data/` folder, and visualizations are exported to the `visuals/` directory."
   ]
  },
  {
   "cell_type": "markdown",
   "id": "122ca5f3",
   "metadata": {},
   "source": [
    "## 1. Load Cleaned Data"
   ]
  },
  {
   "cell_type": "code",
   "execution_count": null,
   "id": "60f367de",
   "metadata": {},
   "outputs": [],
   "source": [
    "import pandas as pd\n",
    "\n",
    "activity = pd.read_csv('../data/cleaned/daily_activity_clean.csv')\n",
    "sleep = pd.read_csv('../data/cleaned/minute_sleep_merged.csv')\n",
    "print(activity.shape)\n",
    "activity.head()"
   ]
  },
  {
   "cell_type": "markdown",
   "id": "36439085",
   "metadata": {},
   "source": [
    "## 2. Exploratory Data Analysis"
   ]
  },
  {
   "cell_type": "code",
   "execution_count": null,
   "id": "4aa0becf",
   "metadata": {},
   "outputs": [],
   "source": [
    "# Summary statistics\n",
    "activity.describe()"
   ]
  },
  {
   "cell_type": "code",
   "execution_count": null,
   "id": "b46ccef7",
   "metadata": {},
   "outputs": [],
   "source": [
    "# Check missing values\n",
    "activity.isnull().sum()"
   ]
  },
  {
   "cell_type": "code",
   "execution_count": null,
   "id": "856d1db3",
   "metadata": {},
   "outputs": [],
   "source": [
    "import seaborn as sns\n",
    "import matplotlib.pyplot as plt\n",
    "\n",
    "# Distribution of steps\n",
    "sns.histplot(activity['TotalSteps'], bins=30)\n",
    "plt.title('Distribution of Daily Steps')\n",
    "plt.xlabel('Steps')\n",
    "plt.ylabel('Frequency')\n",
    "plt.tight_layout()\n",
    "plt.savefig('../visuals/steps_distribution.png')"
   ]
  },
  {
   "cell_type": "code",
   "execution_count": null,
   "id": "59b53475",
   "metadata": {},
   "outputs": [],
   "source": [
    "# Correlation heatmap\n",
    "sns.heatmap(activity.corr(), annot=True, cmap='coolwarm')\n",
    "plt.title('Correlation Matrix')\n",
    "plt.tight_layout()\n",
    "plt.savefig('../visuals/correlation_matrix.png')"
   ]
  },
  {
   "cell_type": "markdown",
   "id": "bf583664",
   "metadata": {},
   "source": [
    "## 3. User Segmentation"
   ]
  },
  {
   "cell_type": "code",
   "execution_count": null,
   "id": "3b9872d1",
   "metadata": {},
   "outputs": [],
   "source": [
    "from sklearn.cluster import KMeans\n",
    "from sklearn.preprocessing import StandardScaler\n",
    "\n",
    "features = activity[['TotalSteps', 'Calories']].copy()\n",
    "scaler = StandardScaler()\n",
    "features_scaled = scaler.fit_transform(features)\n",
    "\n",
    "kmeans = KMeans(n_clusters=3, random_state=42)\n",
    "activity['Cluster'] = kmeans.fit_predict(features_scaled)\n",
    "activity['Cluster'].value_counts()"
   ]
  },
  {
   "cell_type": "code",
   "execution_count": null,
   "id": "10a7bf1d",
   "metadata": {},
   "outputs": [],
   "source": [
    "# Cluster visualization\n",
    "sns.scatterplot(data=activity, x='TotalSteps', y='Calories', hue='Cluster', palette='Set2')\n",
    "plt.title('User Segments by Steps and Calories')\n",
    "plt.tight_layout()\n",
    "plt.savefig('../visuals/user_segments.png')"
   ]
  },
  {
   "cell_type": "markdown",
   "id": "f13c7d62",
   "metadata": {},
   "source": [
    "## 4. Conclusion\n",
    "The dataset reveals meaningful distinctions in activity levels and calorie expenditure across users. Segmentation shows a mix of low-engagement, moderate, and high-performing users. These insights can support personalized marketing, in-app messaging, and engagement strategies."
   ]
  }
 ],
 "metadata": {},
 "nbformat": 4,
 "nbformat_minor": 5
}
